{
 "cells": [
  {
   "cell_type": "markdown",
   "id": "a18b1fe0",
   "metadata": {},
   "source": [
    "# Round 1\n",
    "\n",
    "You get the chance to do a series of trades in some foreign island currencies.  \n",
    "The first trade is a conversion of your SeaShells into a foreign currency,  \n",
    "the last trade is a conversion from a foreign currency back into SeaShells.  \n",
    "Everything in between is up to you.\n",
    "\n",
    "Give some thought to what series of trades you would like to do,  \n",
    "as there might be an opportunity to walk away with more shells than you arrived with.\n",
    "\n",
    "---\n",
    "\n",
    "This is a simple dynamic programming (DP) problem.  \n",
    "Since you can convert back to SeaShells at any given point,  \n",
    "you should aim to do as much trading as possible.  \n",
    "In this case, we are allowed to do up to 5 trades.  \n",
    "That makes this problem equivalent to finding the most optimal trading path of length 5.\n",
    "\n",
    "Trading Table:\n",
    "![Trading Table](../Images/m1_table.png)\n",
    "Profit:\n",
    "![Manual Diagram Day 1](../Images/m1_result.png)\n",
    "\n"
   ]
  },
  {
   "cell_type": "code",
   "execution_count": null,
   "id": "6dfdd92d",
   "metadata": {},
   "outputs": [],
   "source": [
    "trades = {\n",
    "    \"SNOW\": {\"PIZZA\": 1.45, \"SILICON\": 0.52, \"SEASHELL\": 0.72},\n",
    "    \"PIZZA\": {\"SNOW\": 0.7, \"SILICON\": 0.31, \"SEASHELL\": 0.48},\n",
    "    \"SILICON\": {\"SNOW\": 1.95, \"PIZZA\": 3.1, \"SEASHELL\": 1.49},\n",
    "    \"SEASHELL\": {\"SNOW\": 1.34, \"PIZZA\": 1.98, \"SILICON\": 0.64},\n",
    "}\n",
    "\n",
    "\n",
    "def get_best_trade(trades, starting, remaining):\n",
    "    if remaining == 1:\n",
    "        val = trades[starting][\"SEASHELL\"] if starting != \"SEASHELL\" else 1\n",
    "        return val, \"SEASHELL\"\n",
    "    best_val, best_path = 0, \"\"\n",
    "    for trade, rate in trades[starting].items():\n",
    "        val, cont_trade = get_best_trade(trades, trade, remaining - 1)\n",
    "        val = rate * val\n",
    "        if val > best_val:\n",
    "            best_val = val\n",
    "            best_path = trade + \" \" + cont_trade\n",
    "\n",
    "    return best_val, best_path\n",
    "\n",
    "\n",
    "print(get_best_trade(trades, \"SEASHELL\", 5))\n"
   ]
  }
 ],
 "metadata": {
  "language_info": {
   "name": "python"
  }
 },
 "nbformat": 4,
 "nbformat_minor": 5
}
